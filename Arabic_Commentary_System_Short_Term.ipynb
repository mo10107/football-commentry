{
  "nbformat": 4,
  "nbformat_minor": 0,
  "metadata": {
    "colab": {
      "provenance": []
    },
    "kernelspec": {
      "name": "python3",
      "display_name": "Python 3"
    },
    "language_info": {
      "name": "python"
    }
  },
  "cells": [
    {
      "cell_type": "code",
      "source": [
        "!pip install gTTS"
      ],
      "metadata": {
        "colab": {
          "base_uri": "https://localhost:8080/"
        },
        "id": "f7CRzF80-mrE",
        "outputId": "479467da-6059-427d-ef04-503c27382738"
      },
      "execution_count": 1,
      "outputs": [
        {
          "output_type": "stream",
          "name": "stdout",
          "text": [
            "Requirement already satisfied: gTTS in /usr/local/lib/python3.11/dist-packages (2.5.4)\n",
            "Requirement already satisfied: requests<3,>=2.27 in /usr/local/lib/python3.11/dist-packages (from gTTS) (2.32.3)\n",
            "Requirement already satisfied: click<8.2,>=7.1 in /usr/local/lib/python3.11/dist-packages (from gTTS) (8.1.8)\n",
            "Requirement already satisfied: charset-normalizer<4,>=2 in /usr/local/lib/python3.11/dist-packages (from requests<3,>=2.27->gTTS) (3.4.1)\n",
            "Requirement already satisfied: idna<4,>=2.5 in /usr/local/lib/python3.11/dist-packages (from requests<3,>=2.27->gTTS) (3.10)\n",
            "Requirement already satisfied: urllib3<3,>=1.21.1 in /usr/local/lib/python3.11/dist-packages (from requests<3,>=2.27->gTTS) (2.3.0)\n",
            "Requirement already satisfied: certifi>=2017.4.17 in /usr/local/lib/python3.11/dist-packages (from requests<3,>=2.27->gTTS) (2025.1.31)\n"
          ]
        }
      ]
    },
    {
      "cell_type": "code",
      "source": [
        "!pip install -U openai opencv-python moviepy requests imageio[ffmpeg]"
      ],
      "metadata": {
        "colab": {
          "base_uri": "https://localhost:8080/"
        },
        "id": "RBBcbO8urESd",
        "outputId": "28e4b61f-f31c-4088-8c62-70ac0c52b1e5"
      },
      "execution_count": 2,
      "outputs": [
        {
          "output_type": "stream",
          "name": "stdout",
          "text": [
            "Requirement already satisfied: openai in /usr/local/lib/python3.11/dist-packages (1.72.0)\n",
            "Requirement already satisfied: opencv-python in /usr/local/lib/python3.11/dist-packages (4.11.0.86)\n",
            "Requirement already satisfied: moviepy in /usr/local/lib/python3.11/dist-packages (2.1.2)\n",
            "Requirement already satisfied: requests in /usr/local/lib/python3.11/dist-packages (2.32.3)\n",
            "Requirement already satisfied: imageio[ffmpeg] in /usr/local/lib/python3.11/dist-packages (2.37.0)\n",
            "Requirement already satisfied: anyio<5,>=3.5.0 in /usr/local/lib/python3.11/dist-packages (from openai) (4.9.0)\n",
            "Requirement already satisfied: distro<2,>=1.7.0 in /usr/local/lib/python3.11/dist-packages (from openai) (1.9.0)\n",
            "Requirement already satisfied: httpx<1,>=0.23.0 in /usr/local/lib/python3.11/dist-packages (from openai) (0.28.1)\n",
            "Requirement already satisfied: jiter<1,>=0.4.0 in /usr/local/lib/python3.11/dist-packages (from openai) (0.9.0)\n",
            "Requirement already satisfied: pydantic<3,>=1.9.0 in /usr/local/lib/python3.11/dist-packages (from openai) (2.11.2)\n",
            "Requirement already satisfied: sniffio in /usr/local/lib/python3.11/dist-packages (from openai) (1.3.1)\n",
            "Requirement already satisfied: tqdm>4 in /usr/local/lib/python3.11/dist-packages (from openai) (4.67.1)\n",
            "Requirement already satisfied: typing-extensions<5,>=4.11 in /usr/local/lib/python3.11/dist-packages (from openai) (4.13.1)\n",
            "Requirement already satisfied: numpy>=1.21.2 in /usr/local/lib/python3.11/dist-packages (from opencv-python) (2.0.2)\n",
            "Requirement already satisfied: decorator<6.0,>=4.0.2 in /usr/local/lib/python3.11/dist-packages (from moviepy) (4.4.2)\n",
            "Requirement already satisfied: imageio_ffmpeg>=0.2.0 in /usr/local/lib/python3.11/dist-packages (from moviepy) (0.6.0)\n",
            "Requirement already satisfied: proglog<=1.0.0 in /usr/local/lib/python3.11/dist-packages (from moviepy) (0.1.11)\n",
            "Requirement already satisfied: python-dotenv>=0.10 in /usr/local/lib/python3.11/dist-packages (from moviepy) (1.1.0)\n",
            "Requirement already satisfied: pillow<11.0,>=9.2.0 in /usr/local/lib/python3.11/dist-packages (from moviepy) (10.4.0)\n",
            "Requirement already satisfied: charset-normalizer<4,>=2 in /usr/local/lib/python3.11/dist-packages (from requests) (3.4.1)\n",
            "Requirement already satisfied: idna<4,>=2.5 in /usr/local/lib/python3.11/dist-packages (from requests) (3.10)\n",
            "Requirement already satisfied: urllib3<3,>=1.21.1 in /usr/local/lib/python3.11/dist-packages (from requests) (2.3.0)\n",
            "Requirement already satisfied: certifi>=2017.4.17 in /usr/local/lib/python3.11/dist-packages (from requests) (2025.1.31)\n",
            "Requirement already satisfied: psutil in /usr/local/lib/python3.11/dist-packages (from imageio[ffmpeg]) (5.9.5)\n",
            "Requirement already satisfied: httpcore==1.* in /usr/local/lib/python3.11/dist-packages (from httpx<1,>=0.23.0->openai) (1.0.7)\n",
            "Requirement already satisfied: h11<0.15,>=0.13 in /usr/local/lib/python3.11/dist-packages (from httpcore==1.*->httpx<1,>=0.23.0->openai) (0.14.0)\n",
            "Requirement already satisfied: annotated-types>=0.6.0 in /usr/local/lib/python3.11/dist-packages (from pydantic<3,>=1.9.0->openai) (0.7.0)\n",
            "Requirement already satisfied: pydantic-core==2.33.1 in /usr/local/lib/python3.11/dist-packages (from pydantic<3,>=1.9.0->openai) (2.33.1)\n",
            "Requirement already satisfied: typing-inspection>=0.4.0 in /usr/local/lib/python3.11/dist-packages (from pydantic<3,>=1.9.0->openai) (0.4.0)\n"
          ]
        }
      ]
    },
    {
      "cell_type": "code",
      "source": [
        "import cv2\n",
        "import base64\n",
        "from openai import OpenAI\n",
        "import os\n",
        "from google.colab import userdata\n",
        "import re\n",
        "\n",
        "# API key from alibaba cloud\n",
        "api_key = userdata.get('DASHSCOPE_API_KEY')\n",
        "\n",
        "client = OpenAI(\n",
        "    api_key=api_key,\n",
        "    base_url=\"https://dashscope-intl.aliyuncs.com/compatible-mode/v1\"\n",
        ")\n",
        "\n",
        "def process_frames(video_path, fps_sample_rate=1):\n",
        "    video = cv2.VideoCapture(video_path)\n",
        "    fps = video.get(cv2.CAP_PROP_FPS)\n",
        "    length = int(video.get(cv2.CAP_PROP_FRAME_COUNT))\n",
        "\n",
        "    if fps != 0:\n",
        "        video_length_seconds = length / fps\n",
        "        print(f'Video length: {video_length_seconds:.2f} seconds')\n",
        "    else:\n",
        "        raise ValueError(\"Video not found or unreadable.\")\n",
        "\n",
        "    base64_frames = []\n",
        "    frame_interval = int(fps * fps_sample_rate)\n",
        "    frame_index = 0\n",
        "\n",
        "    while video.isOpened():\n",
        "        success, frame = video.read()\n",
        "        if not success:\n",
        "            break\n",
        "        if frame_index % frame_interval == 0:\n",
        "            _, buffer = cv2.imencode(\".jpg\", frame)\n",
        "            base64_image = base64.b64encode(buffer).decode(\"utf-8\")\n",
        "            base64_frames.append(base64_image)\n",
        "        frame_index += 1\n",
        "\n",
        "    video.release()\n",
        "    print(f\"{len(base64_frames)} frames sampled.\")\n",
        "    return base64_frames, video_length_seconds\n",
        "\n",
        "def create_continuous_prompt(video_length_seconds):\n",
        "    return f\"\"\"\n",
        "    Generate continuous Arabic football commentary for these video frames.\n",
        "\n",
        "    Team and Player Information:\n",
        "    - Bayern Munich (Red jerseys): 7 Serge Gnabry, 9 Harry Kane, 10 Leroy Sane\n",
        "    - Borussia Dortmund (White jerseys): #9 Sebastian Haller, #11 Marco Reus\n",
        "\n",
        "    Requirements for Natural Speech Output:\n",
        "    1. Use only Arabic commentary style\n",
        "    2. Focus on fluid play-by-play narration\n",
        "    3. Avoid bullet points, lists, or structured sections\n",
        "    4. Use natural transitions between actions\n",
        "    5. Include appropriate Arabic football commentary expressions\n",
        "    6. Maintain consistent energy throughout\n",
        "    7. Target duration: {video_length_seconds:.1f} seconds when spoken\n",
        "\n",
        "    Commentary Style Guidelines:\n",
        "    - Use connecting phrases like \"والآن\", \"نرى\", \"يحاول\"\n",
        "    - Mention either the player's name or jersey number, not both\n",
        "    - Include emotional reactions when appropriate\n",
        "    - Keep sentences concise but flowing\n",
        "    - Avoid technical analysis interruptions\n",
        "    \"\"\"\n",
        "\n",
        "video_path = \"/content/test_video.mp4\"\n",
        "base64_frames, video_length = process_frames(video_path)\n",
        "\n",
        "image_messages = [\n",
        "    {\n",
        "        \"type\": \"image_url\",\n",
        "        \"image_url\": {\n",
        "            \"url\": f\"data:image/jpeg;base64,{img}\"\n",
        "        }\n",
        "    } for img in base64_frames[:80]\n",
        "]\n",
        "\n",
        "\n",
        "messages = [\n",
        "    {\n",
        "        \"role\": \"user\",\n",
        "        \"content\": [\n",
        "            {\"type\": \"text\", \"text\": create_continuous_prompt(video_length)}\n",
        "        ] + image_messages\n",
        "    }\n",
        "]\n",
        "\n",
        "response = client.chat.completions.create(\n",
        "    model=\"qwen2.5-vl-32b-instruct\",\n",
        "    messages=messages\n",
        ")\n",
        "\n",
        "final_commentary = response.choices[0].message.content\n",
        "print(final_commentary)"
      ],
      "metadata": {
        "colab": {
          "base_uri": "https://localhost:8080/"
        },
        "id": "gjGvWQ1oDp-r",
        "outputId": "5a1083ac-11b0-452b-ea2c-dfd183f6e682"
      },
      "execution_count": 14,
      "outputs": [
        {
          "output_type": "stream",
          "name": "stdout",
          "text": [
            "Video length: 30.00 seconds\n",
            "30 frames sampled.\n",
            "اللعبة تبدأ بضغط كبير من بايرن ميونخ. لاعبو البايرن يسيطرون على وسط الملعب،  ويحاولون بناء الهجمات بشكل سريع. هاري كين يتحرك بحرية في منطقة جزاء دورتموند،  بينما سيرج غنابري يراقب الدفاع عن قرب. \"هاري كين يتلقى كرة طويلة من خط الوسط،  لكن دفاع دورتموند يتدخل بسرعة ويقطعها.\" الكرة تنتقل إلى لوروا ساني الذي يحاول التقدم نحو منطقة الجزاء،  لكنه يواجه ضغطًا كبيرًا من لاعبي دورتموند. \"ساني يمرر الكرة إلى غنابري،  الذي يحاول التسديد،  لكن الحارس يتصدى للكرة ببراعة.\" دورتموند يحاول استعادة السيطرة على المباراة،  مع محاولة ماركو ريوس إيجاد فرصة للهجوم. \"ريوس يمرر الكرة إلى سيباستيان هالر،  لكن الدفاع يقطعها قبل أن يصل إليها.\" اللعبة تستمر بالتبادل السريع بين الهجمات والدفاعات،  مع سيطرة نسبية من بايرن ميونخ على الكرة. \"بايرن ميونخ يحافظ على الكرة بحذر،  ويحاول إيجاد الفرصة المناسبة للتسجيل.\" في هذه الأثناء،  الجماهير تتابع المباراة بحماس شديد،  وتنتظر أي هجمة قد تؤدي إلى هدف. \"بايرن ميونخ يشن هجوماً معاكساً،  لكن دفاع دورتموند ينجح في إبعاد الخطر.\" المباراة تستمر بنفس النسق،  مع محاولات متتالية من الفريقين لإحراز هدف. \"دورتموند يشن هجوماً مرتداً،  لكن الدفاع ي成功 in intercepting the ball and clearing it.\" اللاعبون يبذلون كل ما في وسعهم لتحقيق الفوز،  مع اقتراب نهاية الشوط الأول. \"بايرن ميونخ يحاول الضغط أكثر،  لكن الوقت ينفد دون تسجيل أي هدف.\" الشوط الأول ينتهي بالتعادل السلبي،  مع أداء قوي من كلا الفريقين.\n"
          ]
        }
      ]
    },
    {
      "cell_type": "code",
      "source": [
        "import re\n",
        "from gtts import gTTS\n",
        "def clean_vl_output_for_tts(text):\n",
        "    text = re.sub(r'\\*\\*(.*?)\\*\\*', r'\\1', text)\n",
        "    text = re.sub(r'^\\d+\\.\\s*', '', text, flags=re.MULTILINE)\n",
        "    text = re.sub(r'-\\s*', '', text)\n",
        "    text = re.sub(r'\\n+', ' ', text)\n",
        "    text = re.sub(r'\\s{2,}', ' ', text).strip()\n",
        "    text = re.sub(r'[^\\u0600-\\u06FF\\s،؛؟]+', '', text)\n",
        "    return text\n",
        "\n",
        "cleaned = clean_vl_output_for_tts(final_commentary)\n",
        "\n",
        "\n",
        "tts = gTTS(text=cleaned, lang='ar')\n",
        "tts.save(\"commentary.mp3\")\n"
      ],
      "metadata": {
        "id": "6wOsQ33_D_zS"
      },
      "execution_count": 9,
      "outputs": []
    }
  ]
}